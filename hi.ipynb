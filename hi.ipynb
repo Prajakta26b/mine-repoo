{
 "cells": [
  {
   "cell_type": "code",
   "execution_count": null,
   "id": "096ff4da-b89d-4e9c-93b0-8309a9f44259",
   "metadata": {},
   "outputs": [],
   "source": [
    "# Print \"Hello\"\n",
    "print(\"Hello\")\n",
    "\n",
    "# Simple addition\n",
    "a = 5\n",
    "b = 7\n",
    "sum = a + b\n",
    "\n",
    "# Print the result\n",
    "print(\"The sum is:\", sum)\n"
   ]
  }
 ],
 "metadata": {
  "kernelspec": {
   "display_name": "Python 3 (ipykernel)",
   "language": "python",
   "name": "python3"
  },
  "language_info": {
   "codemirror_mode": {
    "name": "ipython",
    "version": 3
   },
   "file_extension": ".py",
   "mimetype": "text/x-python",
   "name": "python",
   "nbconvert_exporter": "python",
   "pygments_lexer": "ipython3",
   "version": "3.13.3"
  }
 },
 "nbformat": 4,
 "nbformat_minor": 5
}

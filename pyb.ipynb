{
 "cells": [
  {
   "cell_type": "code",
   "execution_count": 1,
   "id": "7f5d20d2-fb6b-48c6-9d01-828a2726e8a1",
   "metadata": {},
   "outputs": [
    {
     "name": "stdout",
     "output_type": "stream",
     "text": [
      "Welcome to our services\n"
     ]
    },
    {
     "name": "stdin",
     "output_type": "stream",
     "text": [
      "What's your name?  hi\n"
     ]
    },
    {
     "name": "stdout",
     "output_type": "stream",
     "text": [
      "Hello hi, how can I help you?\n"
     ]
    },
    {
     "name": "stdin",
     "output_type": "stream",
     "text": [
      "Type anything or 'exit':  jk\n"
     ]
    },
    {
     "name": "stdout",
     "output_type": "stream",
     "text": [
      "Sorry, I am not able to understand\n"
     ]
    },
    {
     "name": "stdin",
     "output_type": "stream",
     "text": [
      "Type anything or 'exit':  ki\n"
     ]
    },
    {
     "name": "stdout",
     "output_type": "stream",
     "text": [
      "Sorry, I am not able to understand\n"
     ]
    },
    {
     "name": "stdin",
     "output_type": "stream",
     "text": [
      "Type anything or 'exit':  exit\n"
     ]
    },
    {
     "name": "stdout",
     "output_type": "stream",
     "text": [
      "Goodbye\n"
     ]
    }
   ],
   "source": [
    "def chatbot():\n",
    "    print(\"Welcome to our services\")\n",
    "    name = input(\"What's your name? \")\n",
    "    print(\"Hello \" + name + \", how can I help you?\")\n",
    "\n",
    "    while True:\n",
    "        query = input(\"Type anything or 'exit': \").lower()\n",
    "        if query == \"exit\":\n",
    "            print(\"Goodbye\")\n",
    "            break\n",
    "        elif \"hello\" in query:\n",
    "            print(\"Hiiiiii dear\")\n",
    "        elif \"bye\" in query:\n",
    "            print(\"Bye dear\")\n",
    "        else:\n",
    "            print(\"Sorry, I am not able to understand\")\n",
    "\n",
    "chatbot()"
   ]
  },
  {
   "cell_type": "code",
   "execution_count": 2,
   "id": "8a552e08-fb28-40ba-85c9-972f6f9f7575",
   "metadata": {},
   "outputs": [
    {
     "name": "stdout",
     "output_type": "stream",
     "text": [
      "bfs\n",
      "A  B  C  D  E  F  "
     ]
    }
   ],
   "source": [
    "from collections import deque\n",
    "def bfs(queue,visited,graph):\n",
    "    while queue: \n",
    "        node=queue.popleft()\n",
    "        print(node,end='  ')\n",
    "        for neighbor in graph[node]:\n",
    "            if neighbor is not visited:\n",
    "                visited.add(neighbor)\n",
    "                queue.append(neighbor)\n",
    "\n",
    "\n",
    "\n",
    "graph={\n",
    "    'A':['B','C'],\n",
    "    'B':['D','E'],\n",
    "    'C':['F'],\n",
    "    'D':[],\n",
    "    'E':[],\n",
    "    'F':[]\n",
    "}\n",
    "start_node='A'\n",
    "visited=set()\n",
    "visited.add(start_node)\n",
    "queue=deque([start_node])\n",
    "print(\"bfs\")\n",
    "bfs(queue,visited,graph)"
   ]
  },
  {
   "cell_type": "code",
   "execution_count": 4,
   "id": "3937de0a-ce67-46a0-bddc-f2ccca4f6db4",
   "metadata": {},
   "outputs": [
    {
     "name": "stdout",
     "output_type": "stream",
     "text": [
      "DFS:\n",
      "A  B  D  E  C  F  "
     ]
    }
   ],
   "source": [
    "def dfs(stack, visited, graph):\n",
    "    while stack:\n",
    "        node = stack.pop()\n",
    "        if node not in visited:\n",
    "            print(node, end='  ')\n",
    "            visited.add(node)\n",
    "            # Add neighbors in reverse order to visit left side first (like recursion)\n",
    "            for neighbor in reversed(graph[node]):\n",
    "                if neighbor not in visited:\n",
    "                    stack.append(neighbor)\n",
    "\n",
    "graph = {\n",
    "    'A': ['B', 'C'],\n",
    "    'B': ['D', 'E'],\n",
    "    'C': ['F'],\n",
    "    'D': [],\n",
    "    'E': [],\n",
    "    'F': []\n",
    "}\n",
    "\n",
    "start_node = 'A'\n",
    "visited = set()\n",
    "stack = [start_node]  # Use stack instead of queue\n",
    "\n",
    "print(\"DFS:\")\n",
    "dfs(stack, visited, graph)"
   ]
  },
  {
   "cell_type": "code",
   "execution_count": 5,
   "id": "0f856e0a-d02c-4124-9faf-259ed977ac47",
   "metadata": {},
   "outputs": [
    {
     "name": "stdout",
     "output_type": "stream",
     "text": [
      "Path: ['A', 'B', 'D']\n",
      "Total cost: 8\n"
     ]
    }
   ],
   "source": [
    "import heapq\n",
    "\n",
    "def a_star(graph, h, start, goal):\n",
    "    open_list = [(h[start], 0, start, [start])]\n",
    "    closed = set()\n",
    "\n",
    "    while open_list:\n",
    "        f, g, u, path = heapq.heappop(open_list)\n",
    "        if u == goal:\n",
    "            return path, g\n",
    "        if u in closed:\n",
    "            continue\n",
    "        closed.add(u)\n",
    "        for v, w in graph[u]:\n",
    "            if v in closed:\n",
    "                continue\n",
    "            g2 = g + w\n",
    "            heapq.heappush(open_list, (g2 + h[v], g2, v, path + [v]))\n",
    "    return None, float('inf')\n",
    "\n",
    "graph = {\n",
    "    'A':[('B',1),('C',5)],\n",
    "    'B':[('D',7)],\n",
    "    'C':[('D',10)],\n",
    "    'D':[]\n",
    "}\n",
    "h = {'A':6, 'B':4, 'C':2, 'D':0}\n",
    "\n",
    "path, cost = a_star(graph, h, 'A', 'D')\n",
    "print(\"Path:\", path)        # → ['A', 'B', 'D']\n",
    "print(\"Total cost:\", cost)  # → 8"
   ]
  },
  {
   "cell_type": "code",
   "execution_count": 6,
   "id": "f6a14591-4d98-4189-8436-0d0e869fd871",
   "metadata": {},
   "outputs": [
    {
     "name": "stdout",
     "output_type": "stream",
     "text": [
      "Path: ['A', 'B', 'D']\n",
      "Total Cost: 8\n"
     ]
    }
   ],
   "source": [
    "import heapq\n",
    "\n",
    "def a_star_search(graph, start, goal, heuristic):\n",
    "    # Priority queue: (f(n), g(n), node, path)\n",
    "    open_list = []\n",
    "    heapq.heappush(open_list, (0 + heuristic[start], 0, start, [start]))\n",
    "    \n",
    "    closed_set = set()\n",
    "\n",
    "    while open_list:\n",
    "        f, g, current_node, path = heapq.heappop(open_list)\n",
    "\n",
    "        if current_node == goal:\n",
    "            return path, g  # path and total cost\n",
    "\n",
    "        closed_set.add(current_node)\n",
    "\n",
    "        for neighbor, cost in graph[current_node]:\n",
    "            if neighbor in closed_set:\n",
    "                continue\n",
    "\n",
    "            g_new = g + cost\n",
    "            f_new = g_new + heuristic[neighbor]\n",
    "            heapq.heappush(open_list, (f_new, g_new, neighbor, path + [neighbor]))\n",
    "\n",
    "    return None, float('inf')  # no path found\n",
    "\n",
    "# Example Graph:\n",
    "# Each node maps to a list of (neighbor, cost)\n",
    "graph = {\n",
    "    'A': [('B', 1), ('C', 5)],\n",
    "    'B': [('D', 7)],\n",
    "    'C': [('D', 10)],\n",
    "    'D': []\n",
    "}\n",
    "\n",
    "# Heuristic values for each node (h(n))\n",
    "heuristic = {\n",
    "    'A': 6,\n",
    "    'B': 4,\n",
    "    'C': 2,\n",
    "    'D': 0\n",
    "}\n",
    "\n",
    "# Run A* Search\n",
    "start_node = 'A'\n",
    "goal_node = 'D'\n",
    "path, cost = a_star_search(graph, start_node, goal_node, heuristic)\n",
    "\n",
    "print(\"Path:\", path)\n",
    "print(\"Total Cost:\", cost)"
   ]
  },
  {
   "cell_type": "code",
   "execution_count": 7,
   "id": "3af57a21-bbaa-4fd7-ba71-c1df45f56eb5",
   "metadata": {},
   "outputs": [
    {
     "name": "stdout",
     "output_type": "stream",
     "text": [
      "Minimum Spanning Tree:\n",
      "Edge (0, 1) with weight 2\n",
      "Edge (1, 2) with weight 3\n",
      "Edge (1, 4) with weight 5\n",
      "Edge (0, 3) with weight 6\n"
     ]
    }
   ],
   "source": [
    "def prim(graph):\n",
    "    # Number of vertices\n",
    "    n = len(graph)\n",
    "    \n",
    "    # To keep track of the nodes that are already included in the MST\n",
    "    mst_set = [False] * n\n",
    "    \n",
    "    # Start from vertex 0\n",
    "    mst_set[0] = True\n",
    "    \n",
    "    # To store the minimum spanning tree (MST) edges\n",
    "    mst_edges = []\n",
    "    \n",
    "    for _ in range(n - 1):\n",
    "        min_edge = (None, None, float('inf'))  # (u, v, weight of edge)\n",
    "        \n",
    "        # Find the minimum weight edge that connects a vertex in MST to a vertex not in MST\n",
    "        for u in range(n):\n",
    "            if mst_set[u]:\n",
    "                for v in range(n):\n",
    "                    if not mst_set[v] and graph[u][v] != 0:  # Only consider edges\n",
    "                        if graph[u][v] < min_edge[2]:\n",
    "                            min_edge = (u, v, graph[u][v])\n",
    "        \n",
    "        # Include the edge in MST and mark vertex v as part of the MST\n",
    "        u, v, weight = min_edge\n",
    "        mst_edges.append((u, v, weight))\n",
    "        mst_set[v] = True\n",
    "    \n",
    "    return mst_edges\n",
    "\n",
    "# Example graph (Adjacency matrix)\n",
    "graph = [\n",
    "    [0, 2, 0, 6, 0],\n",
    "    [2, 0, 3, 8, 5],\n",
    "    [0, 3, 0, 0, 7],\n",
    "    [6, 8, 0, 0, 9],\n",
    "    [0, 5, 7, 9, 0]\n",
    "]\n",
    "\n",
    "# Run Prim’s algorithm\n",
    "mst = prim(graph)\n",
    "\n",
    "# Print the MST\n",
    "print(\"Minimum Spanning Tree:\")\n",
    "for u, v, weight in mst:\n",
    "    print(f\"Edge ({u}, {v}) with weight {weight}\")"
   ]
  },
  {
   "cell_type": "code",
   "execution_count": 8,
   "id": "560ee663-3837-4a39-a37f-714f682895ce",
   "metadata": {},
   "outputs": [
    {
     "name": "stdout",
     "output_type": "stream",
     "text": [
      "Minimum Spanning Tree (MST):\n",
      "Edge (2, 3) with weight 4\n",
      "Edge (0, 3) with weight 5\n",
      "Edge (0, 1) with weight 10\n"
     ]
    }
   ],
   "source": [
    "# Kruskal's Algorithm (Super Simple Version)\n",
    "\n",
    "# A simple function to find the root of the set a vertex belongs to\n",
    "def find(parent, i):\n",
    "    if parent[i] == i:\n",
    "        return i\n",
    "    return find(parent, parent[i])\n",
    "\n",
    "# A simple function to do union of two sets\n",
    "def union(parent, rank, x, y):\n",
    "    xroot = find(parent, x)\n",
    "    yroot = find(parent, y)\n",
    "    \n",
    "    if rank[xroot] < rank[yroot]:\n",
    "        parent[xroot] = yroot\n",
    "    elif rank[xroot] > rank[yroot]:\n",
    "        parent[yroot] = xroot\n",
    "    else:\n",
    "        parent[yroot] = xroot\n",
    "        rank[xroot] += 1\n",
    "\n",
    "# Kruskal's function to find the Minimum Spanning Tree\n",
    "def kruskal(nodes, edges):\n",
    "    result = []  # This will store the edges of the MST\n",
    "    parent = []\n",
    "    rank = []\n",
    "    \n",
    "    # Step 1: Sort all edges in increasing order of their weight\n",
    "    edges = sorted(edges, key=lambda edge: edge[2])\n",
    "    \n",
    "    # Initialize parent and rank for disjoint-set\n",
    "    for node in range(nodes):\n",
    "        parent.append(node)\n",
    "        rank.append(0)\n",
    "    \n",
    "    # Step 2: Process each edge and add it to the MST if it doesn't form a cycle\n",
    "    for u, v, weight in edges:\n",
    "        x = find(parent, u)\n",
    "        y = find(parent, v)\n",
    "        \n",
    "        if x != y:\n",
    "            result.append((u, v, weight))\n",
    "            union(parent, rank, x, y)\n",
    "    \n",
    "    return result\n",
    "\n",
    "# Example graph (edges are (u, v, weight))\n",
    "edges = [\n",
    "    (0, 1, 10),\n",
    "    (0, 2, 6),\n",
    "    (0, 3, 5),\n",
    "    (1, 3, 15),\n",
    "    (2, 3, 4)\n",
    "]\n",
    "\n",
    "# Number of nodes in the graph\n",
    "nodes = 4\n",
    "\n",
    "# Running Kruskal's Algorithm\n",
    "mst = kruskal(nodes, edges)\n",
    "\n",
    "# Print the MST\n",
    "print(\"Minimum Spanning Tree (MST):\")\n",
    "for u, v, weight in mst:\n",
    "    print(f\"Edge ({u}, {v}) with weight {weight}\")"
   ]
  },
  {
   "cell_type": "code",
   "execution_count": 9,
   "id": "a87658c4-6eb2-4e9f-a0a2-b87143420720",
   "metadata": {},
   "outputs": [
    {
     "name": "stdout",
     "output_type": "stream",
     "text": [
      "[0, 1, 0, 0]\n",
      "[0, 0, 0, 1]\n",
      "[1, 0, 0, 0]\n",
      "[0, 0, 1, 0]\n"
     ]
    }
   ],
   "source": [
    "# Function to check if it's safe to place a queen on board[row][col]\n",
    "def is_safe(board, row, col, n):\n",
    "    # Check the column\n",
    "    for i in range(row):\n",
    "        if board[i][col] == 1:\n",
    "            return False\n",
    "    \n",
    "    # Check the left diagonal\n",
    "    for i, j in zip(range(row-1, -1, -1), range(col-1, -1, -1)):\n",
    "        if board[i][j] == 1:\n",
    "            return False\n",
    "    \n",
    "    # Check the right diagonal\n",
    "    for i, j in zip(range(row-1, -1, -1), range(col+1, n)):\n",
    "        if board[i][j] == 1:\n",
    "            return False\n",
    "    \n",
    "    return True\n",
    "\n",
    "# Function to solve the N-Queens problem using Backtracking\n",
    "def solve_n_queens(board, row, n):\n",
    "    # If all queens are placed, return True\n",
    "    if row >= n:\n",
    "        return True\n",
    "    \n",
    "    # Consider this row and try all columns\n",
    "    for col in range(n):\n",
    "        if is_safe(board, row, col, n):\n",
    "            board[row][col] = 1  # Place queen\n",
    "            \n",
    "            # Recur to place the next queen\n",
    "            if solve_n_queens(board, row + 1, n):\n",
    "                return True\n",
    "            \n",
    "            # If placing queen doesn't lead to a solution, backtrack\n",
    "            board[row][col] = 0\n",
    "    \n",
    "    return False\n",
    "\n",
    "# Function to solve the problem\n",
    "def n_queens(n):\n",
    "    # Initialize the chessboard with 0's\n",
    "    board = [[0 for _ in range(n)] for _ in range(n)]\n",
    "    \n",
    "    # Start the backtracking process\n",
    "    if solve_n_queens(board, 0, n):\n",
    "        # Print the solution\n",
    "        for row in board:\n",
    "            print(row)\n",
    "    else:\n",
    "        print(\"Solution does not exist.\")\n",
    "\n",
    "# Example usage\n",
    "n = 4  # Size of the board (4x4 chessboard)\n",
    "n_queens(n)"
   ]
  },
  {
   "cell_type": "code",
   "execution_count": null,
   "id": "0ca67efd-a1c8-4422-98ea-a201e1f251c8",
   "metadata": {},
   "outputs": [],
   "source": []
  }
 ],
 "metadata": {
  "kernelspec": {
   "display_name": "Python 3 (ipykernel)",
   "language": "python",
   "name": "python3"
  },
  "language_info": {
   "codemirror_mode": {
    "name": "ipython",
    "version": 3
   },
   "file_extension": ".py",
   "mimetype": "text/x-python",
   "name": "python",
   "nbconvert_exporter": "python",
   "pygments_lexer": "ipython3",
   "version": "3.13.3"
  }
 },
 "nbformat": 4,
 "nbformat_minor": 5
}
